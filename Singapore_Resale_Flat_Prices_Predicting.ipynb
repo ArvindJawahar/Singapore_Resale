{
 "cells": [
  {
   "cell_type": "code",
   "execution_count": 1,
   "metadata": {
    "id": "wcLEFl0lpZK8"
   },
   "outputs": [],
   "source": [
    "# Importing the requried libraries\n",
    "import pandas as pd\n",
    "import numpy as np\n",
    "import seaborn as sns\n",
    "import matplotlib.pyplot as plt\n",
    "from sklearn import preprocessing"
   ]
  },
  {
   "cell_type": "code",
   "execution_count": 2,
   "metadata": {
    "id": "gR5C35A_peFt"
   },
   "outputs": [],
   "source": [
    "# get file paths in a list\n",
    "file_paths = [r'E:\\GitHub\\Singapore_Resale\\Data\\1.csv',\n",
    "              r'E:\\GitHub\\Singapore_Resale\\Data\\2.csv',\n",
    "              r'E:\\GitHub\\Singapore_Resale\\Data\\3.csv',\n",
    "              r'E:\\GitHub\\Singapore_Resale\\Data\\4.csv',\n",
    "              r'E:\\GitHub\\Singapore_Resale\\Data\\5.csv'\n",
    "             ]\n",
    "# declare an empty list\n",
    "dfs = []\n",
    "# append each csv to the dfs list\n",
    "for file_path in file_paths:\n",
    "    df_sep = pd.read_csv(file_path)\n",
    "    dfs.append(df_sep)\n",
    "# combine them using concat\n",
    "df = pd.concat(dfs, ignore_index=True)"
   ]
  },
  {
   "cell_type": "code",
   "execution_count": 3,
   "metadata": {
    "colab": {
     "base_uri": "https://localhost:8080/",
     "height": 206
    },
    "id": "Kvx5NMrNps_Q",
    "outputId": "0073c065-2247-4fdf-df61-ead94e5b7e45"
   },
   "outputs": [
    {
     "data": {
      "text/html": [
       "<div>\n",
       "<style scoped>\n",
       "    .dataframe tbody tr th:only-of-type {\n",
       "        vertical-align: middle;\n",
       "    }\n",
       "\n",
       "    .dataframe tbody tr th {\n",
       "        vertical-align: top;\n",
       "    }\n",
       "\n",
       "    .dataframe thead th {\n",
       "        text-align: right;\n",
       "    }\n",
       "</style>\n",
       "<table border=\"1\" class=\"dataframe\">\n",
       "  <thead>\n",
       "    <tr style=\"text-align: right;\">\n",
       "      <th></th>\n",
       "      <th>month</th>\n",
       "      <th>town</th>\n",
       "      <th>flat_type</th>\n",
       "      <th>block</th>\n",
       "      <th>street_name</th>\n",
       "      <th>storey_range</th>\n",
       "      <th>floor_area_sqm</th>\n",
       "      <th>flat_model</th>\n",
       "      <th>lease_commence_date</th>\n",
       "      <th>resale_price</th>\n",
       "      <th>remaining_lease</th>\n",
       "    </tr>\n",
       "  </thead>\n",
       "  <tbody>\n",
       "    <tr>\n",
       "      <th>0</th>\n",
       "      <td>1990-01</td>\n",
       "      <td>ANG MO KIO</td>\n",
       "      <td>1 ROOM</td>\n",
       "      <td>309</td>\n",
       "      <td>ANG MO KIO AVE 1</td>\n",
       "      <td>10 TO 12</td>\n",
       "      <td>31.0</td>\n",
       "      <td>IMPROVED</td>\n",
       "      <td>1977</td>\n",
       "      <td>9000.0</td>\n",
       "      <td>NaN</td>\n",
       "    </tr>\n",
       "    <tr>\n",
       "      <th>1</th>\n",
       "      <td>1990-01</td>\n",
       "      <td>ANG MO KIO</td>\n",
       "      <td>1 ROOM</td>\n",
       "      <td>309</td>\n",
       "      <td>ANG MO KIO AVE 1</td>\n",
       "      <td>04 TO 06</td>\n",
       "      <td>31.0</td>\n",
       "      <td>IMPROVED</td>\n",
       "      <td>1977</td>\n",
       "      <td>6000.0</td>\n",
       "      <td>NaN</td>\n",
       "    </tr>\n",
       "    <tr>\n",
       "      <th>2</th>\n",
       "      <td>1990-01</td>\n",
       "      <td>ANG MO KIO</td>\n",
       "      <td>1 ROOM</td>\n",
       "      <td>309</td>\n",
       "      <td>ANG MO KIO AVE 1</td>\n",
       "      <td>10 TO 12</td>\n",
       "      <td>31.0</td>\n",
       "      <td>IMPROVED</td>\n",
       "      <td>1977</td>\n",
       "      <td>8000.0</td>\n",
       "      <td>NaN</td>\n",
       "    </tr>\n",
       "    <tr>\n",
       "      <th>3</th>\n",
       "      <td>1990-01</td>\n",
       "      <td>ANG MO KIO</td>\n",
       "      <td>1 ROOM</td>\n",
       "      <td>309</td>\n",
       "      <td>ANG MO KIO AVE 1</td>\n",
       "      <td>07 TO 09</td>\n",
       "      <td>31.0</td>\n",
       "      <td>IMPROVED</td>\n",
       "      <td>1977</td>\n",
       "      <td>6000.0</td>\n",
       "      <td>NaN</td>\n",
       "    </tr>\n",
       "    <tr>\n",
       "      <th>4</th>\n",
       "      <td>1990-01</td>\n",
       "      <td>ANG MO KIO</td>\n",
       "      <td>3 ROOM</td>\n",
       "      <td>216</td>\n",
       "      <td>ANG MO KIO AVE 1</td>\n",
       "      <td>04 TO 06</td>\n",
       "      <td>73.0</td>\n",
       "      <td>NEW GENERATION</td>\n",
       "      <td>1976</td>\n",
       "      <td>47200.0</td>\n",
       "      <td>NaN</td>\n",
       "    </tr>\n",
       "  </tbody>\n",
       "</table>\n",
       "</div>"
      ],
      "text/plain": [
       "     month        town flat_type block       street_name storey_range  \\\n",
       "0  1990-01  ANG MO KIO    1 ROOM   309  ANG MO KIO AVE 1     10 TO 12   \n",
       "1  1990-01  ANG MO KIO    1 ROOM   309  ANG MO KIO AVE 1     04 TO 06   \n",
       "2  1990-01  ANG MO KIO    1 ROOM   309  ANG MO KIO AVE 1     10 TO 12   \n",
       "3  1990-01  ANG MO KIO    1 ROOM   309  ANG MO KIO AVE 1     07 TO 09   \n",
       "4  1990-01  ANG MO KIO    3 ROOM   216  ANG MO KIO AVE 1     04 TO 06   \n",
       "\n",
       "   floor_area_sqm      flat_model  lease_commence_date  resale_price  \\\n",
       "0            31.0        IMPROVED                 1977        9000.0   \n",
       "1            31.0        IMPROVED                 1977        6000.0   \n",
       "2            31.0        IMPROVED                 1977        8000.0   \n",
       "3            31.0        IMPROVED                 1977        6000.0   \n",
       "4            73.0  NEW GENERATION                 1976       47200.0   \n",
       "\n",
       "  remaining_lease  \n",
       "0             NaN  \n",
       "1             NaN  \n",
       "2             NaN  \n",
       "3             NaN  \n",
       "4             NaN  "
      ]
     },
     "execution_count": 3,
     "metadata": {},
     "output_type": "execute_result"
    }
   ],
   "source": [
    "# display the combined dataframe\n",
    "df.head()"
   ]
  },
  {
   "cell_type": "code",
   "execution_count": 4,
   "metadata": {
    "colab": {
     "base_uri": "https://localhost:8080/"
    },
    "id": "fGg5KGYQptLj",
    "outputId": "4cc31761-fb8f-461c-e6f1-b0535f65a0b7"
   },
   "outputs": [
    {
     "data": {
      "text/plain": [
       "(912891, 11)"
      ]
     },
     "execution_count": 4,
     "metadata": {},
     "output_type": "execute_result"
    }
   ],
   "source": [
    "df.shape"
   ]
  },
  {
   "cell_type": "code",
   "execution_count": 5,
   "metadata": {
    "colab": {
     "base_uri": "https://localhost:8080/"
    },
    "id": "T3qxixs6ptOK",
    "outputId": "b96acc34-8887-4eb4-dae4-8c284b242751"
   },
   "outputs": [
    {
     "name": "stdout",
     "output_type": "stream",
     "text": [
      "<class 'pandas.core.frame.DataFrame'>\n",
      "RangeIndex: 912891 entries, 0 to 912890\n",
      "Data columns (total 11 columns):\n",
      " #   Column               Non-Null Count   Dtype  \n",
      "---  ------               --------------   -----  \n",
      " 0   month                912891 non-null  object \n",
      " 1   town                 912891 non-null  object \n",
      " 2   flat_type            912891 non-null  object \n",
      " 3   block                912891 non-null  object \n",
      " 4   street_name          912891 non-null  object \n",
      " 5   storey_range         912891 non-null  object \n",
      " 6   floor_area_sqm       912891 non-null  float64\n",
      " 7   flat_model           912891 non-null  object \n",
      " 8   lease_commence_date  912891 non-null  int64  \n",
      " 9   resale_price         912891 non-null  float64\n",
      " 10  remaining_lease      203841 non-null  object \n",
      "dtypes: float64(2), int64(1), object(8)\n",
      "memory usage: 76.6+ MB\n"
     ]
    }
   ],
   "source": [
    "# Checking datatypes and null/non-null values distribution\n",
    "df.info()"
   ]
  },
  {
   "cell_type": "code",
   "execution_count": 6,
   "metadata": {
    "colab": {
     "base_uri": "https://localhost:8080/",
     "height": 300
    },
    "id": "GY41y-moptQ5",
    "outputId": "7be1391a-8fd7-4355-8c5d-499e11fcfbef"
   },
   "outputs": [
    {
     "data": {
      "text/html": [
       "<div>\n",
       "<style scoped>\n",
       "    .dataframe tbody tr th:only-of-type {\n",
       "        vertical-align: middle;\n",
       "    }\n",
       "\n",
       "    .dataframe tbody tr th {\n",
       "        vertical-align: top;\n",
       "    }\n",
       "\n",
       "    .dataframe thead th {\n",
       "        text-align: right;\n",
       "    }\n",
       "</style>\n",
       "<table border=\"1\" class=\"dataframe\">\n",
       "  <thead>\n",
       "    <tr style=\"text-align: right;\">\n",
       "      <th></th>\n",
       "      <th>floor_area_sqm</th>\n",
       "      <th>lease_commence_date</th>\n",
       "      <th>resale_price</th>\n",
       "    </tr>\n",
       "  </thead>\n",
       "  <tbody>\n",
       "    <tr>\n",
       "      <th>count</th>\n",
       "      <td>912891.000000</td>\n",
       "      <td>912891.000000</td>\n",
       "      <td>9.128910e+05</td>\n",
       "    </tr>\n",
       "    <tr>\n",
       "      <th>mean</th>\n",
       "      <td>95.699242</td>\n",
       "      <td>1988.120107</td>\n",
       "      <td>3.165246e+05</td>\n",
       "    </tr>\n",
       "    <tr>\n",
       "      <th>std</th>\n",
       "      <td>25.853297</td>\n",
       "      <td>10.501403</td>\n",
       "      <td>1.668116e+05</td>\n",
       "    </tr>\n",
       "    <tr>\n",
       "      <th>min</th>\n",
       "      <td>28.000000</td>\n",
       "      <td>1966.000000</td>\n",
       "      <td>5.000000e+03</td>\n",
       "    </tr>\n",
       "    <tr>\n",
       "      <th>25%</th>\n",
       "      <td>73.000000</td>\n",
       "      <td>1981.000000</td>\n",
       "      <td>1.910000e+05</td>\n",
       "    </tr>\n",
       "    <tr>\n",
       "      <th>50%</th>\n",
       "      <td>93.000000</td>\n",
       "      <td>1986.000000</td>\n",
       "      <td>2.938889e+05</td>\n",
       "    </tr>\n",
       "    <tr>\n",
       "      <th>75%</th>\n",
       "      <td>113.000000</td>\n",
       "      <td>1996.000000</td>\n",
       "      <td>4.110000e+05</td>\n",
       "    </tr>\n",
       "    <tr>\n",
       "      <th>max</th>\n",
       "      <td>307.000000</td>\n",
       "      <td>2022.000000</td>\n",
       "      <td>1.500000e+06</td>\n",
       "    </tr>\n",
       "  </tbody>\n",
       "</table>\n",
       "</div>"
      ],
      "text/plain": [
       "       floor_area_sqm  lease_commence_date  resale_price\n",
       "count   912891.000000        912891.000000  9.128910e+05\n",
       "mean        95.699242          1988.120107  3.165246e+05\n",
       "std         25.853297            10.501403  1.668116e+05\n",
       "min         28.000000          1966.000000  5.000000e+03\n",
       "25%         73.000000          1981.000000  1.910000e+05\n",
       "50%         93.000000          1986.000000  2.938889e+05\n",
       "75%        113.000000          1996.000000  4.110000e+05\n",
       "max        307.000000          2022.000000  1.500000e+06"
      ]
     },
     "execution_count": 6,
     "metadata": {},
     "output_type": "execute_result"
    }
   ],
   "source": [
    "# Checking the distribution of Numerical values in the dataset\n",
    "df.describe()"
   ]
  },
  {
   "cell_type": "code",
   "execution_count": 7,
   "metadata": {
    "colab": {
     "base_uri": "https://localhost:8080/"
    },
    "id": "S5iZV8VYptTn",
    "outputId": "f85ff2a5-0be5-464a-fdf3-f0a7499700f1"
   },
   "outputs": [
    {
     "name": "stdout",
     "output_type": "stream",
     "text": [
      "month : 407 lables\n",
      "town : 27 lables\n",
      "flat_type : 8 lables\n",
      "block : 2694 lables\n",
      "street_name : 583 lables\n",
      "storey_range : 25 lables\n",
      "floor_area_sqm : 210 lables\n",
      "flat_model : 34 lables\n",
      "lease_commence_date : 56 lables\n",
      "resale_price : 9324 lables\n",
      "remaining_lease : 718 lables\n"
     ]
    }
   ],
   "source": [
    "# Unique values in each column\n",
    "for col in df.columns[0:]:\n",
    "    print(col,':', (df[col].nunique()),'lables')"
   ]
  },
  {
   "cell_type": "code",
   "execution_count": 8,
   "metadata": {
    "colab": {
     "base_uri": "https://localhost:8080/"
    },
    "id": "4Q8yHpZEptWP",
    "outputId": "8626b4fe-c654-40b0-a812-2c2157a3d283"
   },
   "outputs": [
    {
     "data": {
      "text/plain": [
       "month                       0\n",
       "town                        0\n",
       "flat_type                   0\n",
       "block                       0\n",
       "street_name                 0\n",
       "storey_range                0\n",
       "floor_area_sqm              0\n",
       "flat_model                  0\n",
       "lease_commence_date         0\n",
       "resale_price                0\n",
       "remaining_lease        709050\n",
       "dtype: int64"
      ]
     },
     "execution_count": 8,
     "metadata": {},
     "output_type": "execute_result"
    }
   ],
   "source": [
    "# Null Values\n",
    "df.isna().sum()"
   ]
  },
  {
   "cell_type": "code",
   "execution_count": 9,
   "metadata": {
    "colab": {
     "base_uri": "https://localhost:8080/",
     "height": 423
    },
    "id": "e8fNONIeptY4",
    "outputId": "255d7238-f369-4786-dd39-4ac80a139a1d"
   },
   "outputs": [
    {
     "data": {
      "text/html": [
       "<div>\n",
       "<style scoped>\n",
       "    .dataframe tbody tr th:only-of-type {\n",
       "        vertical-align: middle;\n",
       "    }\n",
       "\n",
       "    .dataframe tbody tr th {\n",
       "        vertical-align: top;\n",
       "    }\n",
       "\n",
       "    .dataframe thead th {\n",
       "        text-align: right;\n",
       "    }\n",
       "</style>\n",
       "<table border=\"1\" class=\"dataframe\">\n",
       "  <thead>\n",
       "    <tr style=\"text-align: right;\">\n",
       "      <th></th>\n",
       "      <th>month</th>\n",
       "      <th>town</th>\n",
       "      <th>flat_type</th>\n",
       "      <th>block</th>\n",
       "      <th>street_name</th>\n",
       "      <th>storey_range</th>\n",
       "      <th>floor_area_sqm</th>\n",
       "      <th>flat_model</th>\n",
       "      <th>lease_commence_date</th>\n",
       "      <th>resale_price</th>\n",
       "    </tr>\n",
       "  </thead>\n",
       "  <tbody>\n",
       "    <tr>\n",
       "      <th>0</th>\n",
       "      <td>1990-01</td>\n",
       "      <td>ANG MO KIO</td>\n",
       "      <td>1 ROOM</td>\n",
       "      <td>309</td>\n",
       "      <td>ANG MO KIO AVE 1</td>\n",
       "      <td>10 TO 12</td>\n",
       "      <td>31.0</td>\n",
       "      <td>IMPROVED</td>\n",
       "      <td>1977</td>\n",
       "      <td>9000.0</td>\n",
       "    </tr>\n",
       "    <tr>\n",
       "      <th>1</th>\n",
       "      <td>1990-01</td>\n",
       "      <td>ANG MO KIO</td>\n",
       "      <td>1 ROOM</td>\n",
       "      <td>309</td>\n",
       "      <td>ANG MO KIO AVE 1</td>\n",
       "      <td>04 TO 06</td>\n",
       "      <td>31.0</td>\n",
       "      <td>IMPROVED</td>\n",
       "      <td>1977</td>\n",
       "      <td>6000.0</td>\n",
       "    </tr>\n",
       "    <tr>\n",
       "      <th>2</th>\n",
       "      <td>1990-01</td>\n",
       "      <td>ANG MO KIO</td>\n",
       "      <td>1 ROOM</td>\n",
       "      <td>309</td>\n",
       "      <td>ANG MO KIO AVE 1</td>\n",
       "      <td>10 TO 12</td>\n",
       "      <td>31.0</td>\n",
       "      <td>IMPROVED</td>\n",
       "      <td>1977</td>\n",
       "      <td>8000.0</td>\n",
       "    </tr>\n",
       "    <tr>\n",
       "      <th>3</th>\n",
       "      <td>1990-01</td>\n",
       "      <td>ANG MO KIO</td>\n",
       "      <td>1 ROOM</td>\n",
       "      <td>309</td>\n",
       "      <td>ANG MO KIO AVE 1</td>\n",
       "      <td>07 TO 09</td>\n",
       "      <td>31.0</td>\n",
       "      <td>IMPROVED</td>\n",
       "      <td>1977</td>\n",
       "      <td>6000.0</td>\n",
       "    </tr>\n",
       "    <tr>\n",
       "      <th>4</th>\n",
       "      <td>1990-01</td>\n",
       "      <td>ANG MO KIO</td>\n",
       "      <td>3 ROOM</td>\n",
       "      <td>216</td>\n",
       "      <td>ANG MO KIO AVE 1</td>\n",
       "      <td>04 TO 06</td>\n",
       "      <td>73.0</td>\n",
       "      <td>NEW GENERATION</td>\n",
       "      <td>1976</td>\n",
       "      <td>47200.0</td>\n",
       "    </tr>\n",
       "    <tr>\n",
       "      <th>...</th>\n",
       "      <td>...</td>\n",
       "      <td>...</td>\n",
       "      <td>...</td>\n",
       "      <td>...</td>\n",
       "      <td>...</td>\n",
       "      <td>...</td>\n",
       "      <td>...</td>\n",
       "      <td>...</td>\n",
       "      <td>...</td>\n",
       "      <td>...</td>\n",
       "    </tr>\n",
       "    <tr>\n",
       "      <th>912886</th>\n",
       "      <td>2023-05</td>\n",
       "      <td>YISHUN</td>\n",
       "      <td>EXECUTIVE</td>\n",
       "      <td>827</td>\n",
       "      <td>YISHUN ST 81</td>\n",
       "      <td>01 TO 03</td>\n",
       "      <td>154.0</td>\n",
       "      <td>Maisonette</td>\n",
       "      <td>1987</td>\n",
       "      <td>829000.0</td>\n",
       "    </tr>\n",
       "    <tr>\n",
       "      <th>912887</th>\n",
       "      <td>2023-05</td>\n",
       "      <td>YISHUN</td>\n",
       "      <td>EXECUTIVE</td>\n",
       "      <td>824</td>\n",
       "      <td>YISHUN ST 81</td>\n",
       "      <td>07 TO 09</td>\n",
       "      <td>146.0</td>\n",
       "      <td>Maisonette</td>\n",
       "      <td>1987</td>\n",
       "      <td>855000.0</td>\n",
       "    </tr>\n",
       "    <tr>\n",
       "      <th>912888</th>\n",
       "      <td>2023-07</td>\n",
       "      <td>YISHUN</td>\n",
       "      <td>EXECUTIVE</td>\n",
       "      <td>837</td>\n",
       "      <td>YISHUN ST 81</td>\n",
       "      <td>01 TO 03</td>\n",
       "      <td>146.0</td>\n",
       "      <td>Maisonette</td>\n",
       "      <td>1988</td>\n",
       "      <td>860000.0</td>\n",
       "    </tr>\n",
       "    <tr>\n",
       "      <th>912889</th>\n",
       "      <td>2023-01</td>\n",
       "      <td>YISHUN</td>\n",
       "      <td>MULTI-GENERATION</td>\n",
       "      <td>666</td>\n",
       "      <td>YISHUN AVE 4</td>\n",
       "      <td>07 TO 09</td>\n",
       "      <td>179.0</td>\n",
       "      <td>Multi Generation</td>\n",
       "      <td>1987</td>\n",
       "      <td>1080000.0</td>\n",
       "    </tr>\n",
       "    <tr>\n",
       "      <th>912890</th>\n",
       "      <td>2023-06</td>\n",
       "      <td>YISHUN</td>\n",
       "      <td>MULTI-GENERATION</td>\n",
       "      <td>633</td>\n",
       "      <td>YISHUN ST 61</td>\n",
       "      <td>04 TO 06</td>\n",
       "      <td>159.0</td>\n",
       "      <td>Multi Generation</td>\n",
       "      <td>1987</td>\n",
       "      <td>935000.0</td>\n",
       "    </tr>\n",
       "  </tbody>\n",
       "</table>\n",
       "<p>912891 rows × 10 columns</p>\n",
       "</div>"
      ],
      "text/plain": [
       "          month        town         flat_type block       street_name  \\\n",
       "0       1990-01  ANG MO KIO            1 ROOM   309  ANG MO KIO AVE 1   \n",
       "1       1990-01  ANG MO KIO            1 ROOM   309  ANG MO KIO AVE 1   \n",
       "2       1990-01  ANG MO KIO            1 ROOM   309  ANG MO KIO AVE 1   \n",
       "3       1990-01  ANG MO KIO            1 ROOM   309  ANG MO KIO AVE 1   \n",
       "4       1990-01  ANG MO KIO            3 ROOM   216  ANG MO KIO AVE 1   \n",
       "...         ...         ...               ...   ...               ...   \n",
       "912886  2023-05      YISHUN         EXECUTIVE   827      YISHUN ST 81   \n",
       "912887  2023-05      YISHUN         EXECUTIVE   824      YISHUN ST 81   \n",
       "912888  2023-07      YISHUN         EXECUTIVE   837      YISHUN ST 81   \n",
       "912889  2023-01      YISHUN  MULTI-GENERATION   666      YISHUN AVE 4   \n",
       "912890  2023-06      YISHUN  MULTI-GENERATION   633      YISHUN ST 61   \n",
       "\n",
       "       storey_range  floor_area_sqm        flat_model  lease_commence_date  \\\n",
       "0          10 TO 12            31.0          IMPROVED                 1977   \n",
       "1          04 TO 06            31.0          IMPROVED                 1977   \n",
       "2          10 TO 12            31.0          IMPROVED                 1977   \n",
       "3          07 TO 09            31.0          IMPROVED                 1977   \n",
       "4          04 TO 06            73.0    NEW GENERATION                 1976   \n",
       "...             ...             ...               ...                  ...   \n",
       "912886     01 TO 03           154.0        Maisonette                 1987   \n",
       "912887     07 TO 09           146.0        Maisonette                 1987   \n",
       "912888     01 TO 03           146.0        Maisonette                 1988   \n",
       "912889     07 TO 09           179.0  Multi Generation                 1987   \n",
       "912890     04 TO 06           159.0  Multi Generation                 1987   \n",
       "\n",
       "        resale_price  \n",
       "0             9000.0  \n",
       "1             6000.0  \n",
       "2             8000.0  \n",
       "3             6000.0  \n",
       "4            47200.0  \n",
       "...              ...  \n",
       "912886      829000.0  \n",
       "912887      855000.0  \n",
       "912888      860000.0  \n",
       "912889     1080000.0  \n",
       "912890      935000.0  \n",
       "\n",
       "[912891 rows x 10 columns]"
      ]
     },
     "execution_count": 9,
     "metadata": {},
     "output_type": "execute_result"
    }
   ],
   "source": [
    "# Dropping the majority null value columns\n",
    "# (i.e) remaining_lease = 709050\n",
    "df = df.drop(columns ='remaining_lease')\n",
    "df"
   ]
  },
  {
   "cell_type": "code",
   "execution_count": 10,
   "metadata": {
    "colab": {
     "base_uri": "https://localhost:8080/"
    },
    "id": "NLg0gOsAptbe",
    "outputId": "0afdafcb-7283-4bd5-a222-5d03b343dcbe"
   },
   "outputs": [
    {
     "data": {
      "text/plain": [
       "month                  0\n",
       "town                   0\n",
       "flat_type              0\n",
       "block                  0\n",
       "street_name            0\n",
       "storey_range           0\n",
       "floor_area_sqm         0\n",
       "flat_model             0\n",
       "lease_commence_date    0\n",
       "resale_price           0\n",
       "dtype: int64"
      ]
     },
     "execution_count": 10,
     "metadata": {},
     "output_type": "execute_result"
    }
   ],
   "source": [
    "# After droping the column\n",
    "df.isna().sum()"
   ]
  },
  {
   "cell_type": "code",
   "execution_count": 11,
   "metadata": {
    "colab": {
     "base_uri": "https://localhost:8080/",
     "height": 472
    },
    "id": "k_sIq-UbpteH",
    "outputId": "0746445a-bf78-4059-cae9-586ed372f4aa"
   },
   "outputs": [
    {
     "data": {
      "image/png": "[encoded data removed]",
      "text/plain": [
       "<Figure size 640x480 with 1 Axes>"
      ]
     },
     "metadata": {},
     "output_type": "display_data"
    }
   ],
   "source": [
    "# Visualize the distribution of the resale price column\n",
    "sns.histplot(df['resale_price'], bins = 20)\n",
    "plt.title('Distribution of resale price')\n",
    "\n",
    "plt.show()"
   ]
  },
  {
   "cell_type": "code",
   "execution_count": 12,
   "metadata": {
    "colab": {
     "base_uri": "https://localhost:8080/",
     "height": 472
    },
    "id": "fuOYFksgptjE",
    "outputId": "ac5b182c-4b76-466e-9c21-335899e4faed"
   },
   "outputs": [
    {
     "data": {
      "image/png": "[encoded data removed]",
      "text/plain": [
       "<Figure size 640x480 with 1 Axes>"
      ]
     },
     "metadata": {},
     "output_type": "display_data"
    }
   ],
   "source": [
    "# Visualize the distribution of the floor area sqm column\n",
    "sns.histplot(df['floor_area_sqm'], bins = 20)\n",
    "plt.title('Distribution of floor area sqm')\n",
    "# plt.grid()\n",
    "plt.show()"
   ]
  },
  {
   "cell_type": "code",
   "execution_count": 13,
   "metadata": {
    "colab": {
     "base_uri": "https://localhost:8080/"
    },
    "id": "OZ051MOzwdE-",
    "outputId": "79143336-b3e8-4298-98f7-2eb182c85069"
   },
   "outputs": [
    {
     "data": {
      "text/plain": [
       "4 ROOM              346221\n",
       "3 ROOM              292472\n",
       "5 ROOM              192176\n",
       "EXECUTIVE            68777\n",
       "2 ROOM               11408\n",
       "1 ROOM                1299\n",
       "MULTI GENERATION       279\n",
       "MULTI-GENERATION       259\n",
       "Name: flat_type, dtype: int64"
      ]
     },
     "execution_count": 13,
     "metadata": {},
     "output_type": "execute_result"
    }
   ],
   "source": [
    "df['flat_type'].value_counts()"
   ]
  },
  {
   "cell_type": "code",
   "execution_count": 14,
   "metadata": {
    "colab": {
     "base_uri": "https://localhost:8080/",
     "height": 552
    },
    "id": "ciNwOayIwpNi",
    "outputId": "b8cbc810-5e52-478f-8663-ee2821b06416"
   },
   "outputs": [
    {
     "data": {
      "image/png": "[encoded data removed]",
      "text/plain": [
       "<Figure size 640x480 with 1 Axes>"
      ]
     },
     "metadata": {},
     "output_type": "display_data"
    }
   ],
   "source": [
    "df['flat_type'].value_counts().plot(kind = 'bar')\n",
    "plt.show()"
   ]
  },
  {
   "cell_type": "code",
   "execution_count": 15,
   "metadata": {
    "colab": {
     "base_uri": "https://localhost:8080/"
    },
    "id": "y0xv_BKzwuqN",
    "outputId": "34e47a48-3b25-43e8-bcc5-5bc63a84f947"
   },
   "outputs": [
    {
     "data": {
      "text/plain": [
       "array(['1 ROOM', '3 ROOM', '4 ROOM', '5 ROOM', '2 ROOM', 'EXECUTIVE',\n",
       "       'MULTI GENERATION', 'MULTI-GENERATION'], dtype=object)"
      ]
     },
     "execution_count": 15,
     "metadata": {},
     "output_type": "execute_result"
    }
   ],
   "source": [
    "# Unique lables in flat_type column\n",
    "df['flat_type'].unique()"
   ]
  },
  {
   "cell_type": "code",
   "execution_count": 16,
   "metadata": {
    "colab": {
     "base_uri": "https://localhost:8080/"
    },
    "id": "HIQp7sI3xGo5",
    "outputId": "31e4adf9-160d-4f97-a4a1-49477794022f"
   },
   "outputs": [
    {
     "data": {
      "text/plain": [
       "array(['1 ROOM', '3 ROOM', '4 ROOM', '5 ROOM', '2 ROOM', 'EXECUTIVE',\n",
       "       'MULTI GENERATION'], dtype=object)"
      ]
     },
     "execution_count": 16,
     "metadata": {},
     "output_type": "execute_result"
    }
   ],
   "source": [
    "# Collapsing the flat_type categories\n",
    "mapping={'MULTI-GENERATION':'MULTI GENERATION'}\n",
    "\n",
    "df['flat_type'] = df['flat_type'].replace(mapping)\n",
    "df['flat_type'].unique()"
   ]
  },
  {
   "cell_type": "code",
   "execution_count": 17,
   "metadata": {
    "colab": {
     "base_uri": "https://localhost:8080/",
     "height": 542
    },
    "id": "gPR4IVYcxRhs",
    "outputId": "acee49e5-ee88-4f0d-aca3-4adfd1ba9945"
   },
   "outputs": [
    {
     "data": {
      "image/png": "[encoded data removed]",
      "text/plain": [
       "<Figure size 1000x600 with 1 Axes>"
      ]
     },
     "metadata": {},
     "output_type": "display_data"
    }
   ],
   "source": [
    "# Visualize the distribution of the flat_type column\n",
    "plt.figure(figsize=(10, 6))\n",
    "sns.barplot(x = df['flat_type'], y = df['resale_price'])\n",
    "plt.xlabel('Flat Type')\n",
    "plt.ylabel('Price')\n",
    "plt.show()"
   ]
  },
  {
   "cell_type": "code",
   "execution_count": 18,
   "metadata": {
    "colab": {
     "base_uri": "https://localhost:8080/"
    },
    "id": "XxKswmVlx61H",
    "outputId": "ea69f1d9-22a2-46b0-d432-e890d3669d9e"
   },
   "outputs": [
    {
     "data": {
      "text/plain": [
       "0         1\n",
       "1         1\n",
       "2         1\n",
       "3         1\n",
       "4         3\n",
       "         ..\n",
       "912886    6\n",
       "912887    6\n",
       "912888    6\n",
       "912889    7\n",
       "912890    7\n",
       "Name: flat_type, Length: 912891, dtype: int64"
      ]
     },
     "execution_count": 18,
     "metadata": {},
     "output_type": "execute_result"
    }
   ],
   "source": [
    "# flat_type value pair replacing\n",
    "value_re = {'1 ROOM': 1,\n",
    "            '2 ROOM': 2,\n",
    "            '3 ROOM': 3,\n",
    "            '4 ROOM': 4,\n",
    "            '5 ROOM': 5,\n",
    "            'EXECUTIVE': 6,\n",
    "            'MULTI GENERATION': 7}\n",
    "df[\"flat_type\"] = df[\"flat_type\"].replace(value_re)\n",
    "df['flat_type']"
   ]
  },
  {
   "cell_type": "code",
   "execution_count": 19,
   "metadata": {
    "colab": {
     "base_uri": "https://localhost:8080/"
    },
    "id": "W_t9-QnwuKVz",
    "outputId": "a1acf02d-7780-4dc8-cb49-de89b92d45c9"
   },
   "outputs": [
    {
     "data": {
      "text/plain": [
       "4    346221\n",
       "3    292472\n",
       "5    192176\n",
       "6     68777\n",
       "2     11408\n",
       "1      1299\n",
       "7       538\n",
       "Name: flat_type, dtype: int64"
      ]
     },
     "execution_count": 19,
     "metadata": {},
     "output_type": "execute_result"
    }
   ],
   "source": [
    "df[\"flat_type\"].value_counts()"
   ]
  },
  {
   "cell_type": "code",
   "execution_count": 20,
   "metadata": {
    "colab": {
     "base_uri": "https://localhost:8080/"
    },
    "id": "66ye-SIauKiO",
    "outputId": "4ed8f87d-e588-4761-e91f-f651768cf420"
   },
   "outputs": [
    {
     "name": "stdout",
     "output_type": "stream",
     "text": [
      "34\n"
     ]
    },
    {
     "data": {
      "text/plain": [
       "array(['IMPROVED', 'NEW GENERATION', 'MODEL A', 'STANDARD', 'SIMPLIFIED',\n",
       "       'MODEL A-MAISONETTE', 'APARTMENT', 'MAISONETTE', 'TERRACE',\n",
       "       '2-ROOM', 'IMPROVED-MAISONETTE', 'MULTI GENERATION',\n",
       "       'PREMIUM APARTMENT', 'Improved', 'New Generation', 'Model A',\n",
       "       'Standard', 'Apartment', 'Simplified', 'Model A-Maisonette',\n",
       "       'Maisonette', 'Multi Generation', 'Adjoined flat',\n",
       "       'Premium Apartment', 'Terrace', 'Improved-Maisonette',\n",
       "       'Premium Maisonette', '2-room', 'Model A2', 'DBSS', 'Type S1',\n",
       "       'Type S2', 'Premium Apartment Loft', '3Gen'], dtype=object)"
      ]
     },
     "execution_count": 20,
     "metadata": {},
     "output_type": "execute_result"
    }
   ],
   "source": [
    "# Visualize the distribution of the flat_model column\n",
    "print(df['flat_model'].nunique())\n",
    "df['flat_model'].unique()"
   ]
  },
  {
   "cell_type": "code",
   "execution_count": 21,
   "metadata": {
    "id": "zSo3akxWuKky"
   },
   "outputs": [],
   "source": [
    "# Converting the flat_model column to lowercase\n",
    "df['flat_model'] = df['flat_model'].str.lower()"
   ]
  },
  {
   "cell_type": "code",
   "execution_count": 22,
   "metadata": {
    "colab": {
     "base_uri": "https://localhost:8080/"
    },
    "id": "-vee6K-T92ri",
    "outputId": "0e2d3de0-4e11-41fc-b2fc-3a6fad486346"
   },
   "outputs": [
    {
     "data": {
      "text/plain": [
       "21"
      ]
     },
     "execution_count": 22,
     "metadata": {},
     "output_type": "execute_result"
    }
   ],
   "source": [
    "# Unique lables in flat_model column\n",
    "df['flat_model'].nunique()"
   ]
  },
  {
   "cell_type": "code",
   "execution_count": 23,
   "metadata": {
    "colab": {
     "base_uri": "https://localhost:8080/"
    },
    "id": "vEiIz597-QO7",
    "outputId": "2d1af643-fa9a-4bb4-86f2-780946cd5fe6"
   },
   "outputs": [
    {
     "data": {
      "text/plain": [
       "model a                   259416\n",
       "improved                  238468\n",
       "new generation            187293\n",
       "simplified                 57057\n",
       "premium apartment          45370\n",
       "standard                   42219\n",
       "apartment                  35042\n",
       "maisonette                 29304\n",
       "model a2                    9981\n",
       "dbss                        3158\n",
       "model a-maisonette          2053\n",
       "adjoined flat               1231\n",
       "terrace                      688\n",
       "multi generation             538\n",
       "type s1                      427\n",
       "type s2                      210\n",
       "improved-maisonette          125\n",
       "premium apartment loft       103\n",
       "2-room                       101\n",
       "premium maisonette            86\n",
       "3gen                          21\n",
       "Name: flat_model, dtype: int64"
      ]
     },
     "execution_count": 23,
     "metadata": {},
     "output_type": "execute_result"
    }
   ],
   "source": [
    "# Visualizing the distribution of the flat_model column\n",
    "df['flat_model'].value_counts()"
   ]
  },
  {
   "cell_type": "code",
   "execution_count": 24,
   "metadata": {
    "id": "WFnei_zL-UCD"
   },
   "outputs": [],
   "source": [
    "# Encoding flat_model column\n",
    "le = preprocessing.LabelEncoder()\n",
    "flat_modelcode = le.fit_transform(df['flat_model'])\n",
    "df.insert(loc = 8,\n",
    "          column = 'flat_modelcode',\n",
    "          value = flat_modelcode)"
   ]
  },
  {
   "cell_type": "code",
   "execution_count": 25,
   "metadata": {
    "colab": {
     "base_uri": "https://localhost:8080/"
    },
    "id": "KDmB4DFS_SzJ",
    "outputId": "32f84f95-ae78-4c68-db9f-94b3067cb432"
   },
   "outputs": [
    {
     "data": {
      "text/plain": [
       "0        101\n",
       "1         21\n",
       "2       1231\n",
       "3      35042\n",
       "4       3158\n",
       "5     238468\n",
       "6        125\n",
       "7      29304\n",
       "8     259416\n",
       "9       2053\n",
       "10      9981\n",
       "11       538\n",
       "12    187293\n",
       "13     45370\n",
       "14       103\n",
       "15        86\n",
       "16     57057\n",
       "17     42219\n",
       "18       688\n",
       "19       427\n",
       "20       210\n",
       "Name: flat_modelcode, dtype: int64"
      ]
     },
     "execution_count": 25,
     "metadata": {},
     "output_type": "execute_result"
    }
   ],
   "source": [
    "df['flat_modelcode'].value_counts().sort_index()"
   ]
  },
  {
   "cell_type": "code",
   "execution_count": 26,
   "metadata": {
    "colab": {
     "base_uri": "https://localhost:8080/"
    },
    "id": "3xyGL59kDfA0",
    "outputId": "9a97924b-53f3-4bf4-ab41-b0892bb4ae69"
   },
   "outputs": [
    {
     "data": {
      "text/plain": [
       "27"
      ]
     },
     "execution_count": 26,
     "metadata": {},
     "output_type": "execute_result"
    }
   ],
   "source": [
    "# town column\n",
    "df['town'].nunique()"
   ]
  },
  {
   "cell_type": "code",
   "execution_count": 27,
   "metadata": {
    "colab": {
     "base_uri": "https://localhost:8080/"
    },
    "id": "LB4j0EYCEzKv",
    "outputId": "ec80080e-ad5b-4608-dfe1-498d5bf98d08"
   },
   "outputs": [
    {
     "data": {
      "text/plain": [
       "TAMPINES           78984\n",
       "YISHUN             69088\n",
       "BEDOK              65947\n",
       "JURONG WEST        65653\n",
       "WOODLANDS          64489\n",
       "ANG MO KIO         51539\n",
       "HOUGANG            49891\n",
       "BUKIT BATOK        43540\n",
       "CHOA CHU KANG      37674\n",
       "BUKIT MERAH        33823\n",
       "PASIR RIS          32874\n",
       "SENGKANG           31451\n",
       "TOA PAYOH          31151\n",
       "QUEENSTOWN         28427\n",
       "GEYLANG            27882\n",
       "CLEMENTI           27757\n",
       "BUKIT PANJANG      27267\n",
       "KALLANG/WHAMPOA    26761\n",
       "JURONG EAST        24476\n",
       "SERANGOON          22591\n",
       "BISHAN             21082\n",
       "PUNGGOL            19636\n",
       "SEMBAWANG          13331\n",
       "MARINE PARADE       7971\n",
       "CENTRAL AREA        7056\n",
       "BUKIT TIMAH         2486\n",
       "LIM CHU KANG          64\n",
       "Name: town, dtype: int64"
      ]
     },
     "execution_count": 27,
     "metadata": {},
     "output_type": "execute_result"
    }
   ],
   "source": [
    "# Visualize the distribution of the town column\n",
    "df['town'].value_counts()"
   ]
  },
  {
   "cell_type": "code",
   "execution_count": 28,
   "metadata": {
    "id": "x0E9e6TeEzN-"
   },
   "outputs": [],
   "source": [
    "# Creating a column with encoded value\n",
    "town_code = le.fit_transform(df['town'])\n",
    "df.insert(loc = 2,\n",
    "          column = 'town_code',\n",
    "          value = town_code)"
   ]
  },
  {
   "cell_type": "code",
   "execution_count": 29,
   "metadata": {
    "colab": {
     "base_uri": "https://localhost:8080/"
    },
    "id": "FQiVR8crEzRm",
    "outputId": "b6a37b34-748d-4003-a099-58e4432d30cb"
   },
   "outputs": [
    {
     "data": {
      "text/plain": [
       "0     51539\n",
       "1     65947\n",
       "2     21082\n",
       "3     43540\n",
       "4     33823\n",
       "5     27267\n",
       "6      2486\n",
       "7      7056\n",
       "8     37674\n",
       "9     27757\n",
       "10    27882\n",
       "11    49891\n",
       "12    24476\n",
       "13    65653\n",
       "14    26761\n",
       "15       64\n",
       "16     7971\n",
       "17    32874\n",
       "18    19636\n",
       "19    28427\n",
       "20    13331\n",
       "21    31451\n",
       "22    22591\n",
       "23    78984\n",
       "24    31151\n",
       "25    64489\n",
       "26    69088\n",
       "Name: town_code, dtype: int64"
      ]
     },
     "execution_count": 29,
     "metadata": {},
     "output_type": "execute_result"
    }
   ],
   "source": [
    "# Encoded value coun\n",
    "df['town_code'].value_counts().sort_index()"
   ]
  },
  {
   "cell_type": "code",
   "execution_count": 3,
   "metadata": {
    "colab": {
     "base_uri": "https://localhost:8080/"
    },
    "id": "8TBJXfmmEzVG",
    "outputId": "7d80620e-ae8b-4fd5-f08f-88247daa59db"
   },
   "outputs": [
    {
     "ename": "NameError",
     "evalue": "name 'df' is not defined",
     "output_type": "error",
     "traceback": [
      "\u001b[1;31m---------------------------------------------------------------------------\u001b[0m",
      "\u001b[1;31mNameError\u001b[0m                                 Traceback (most recent call last)",
      "Cell \u001b[1;32mIn[3], line 2\u001b[0m\n\u001b[0;32m      1\u001b[0m \u001b[38;5;66;03m# Print header of storey_range\u001b[39;00m\n\u001b[1;32m----> 2\u001b[0m df[\u001b[38;5;124m'\u001b[39m\u001b[38;5;124mstorey_range\u001b[39m\u001b[38;5;124m'\u001b[39m]\u001b[38;5;241m.\u001b[39mhead()\n",
      "\u001b[1;31mNameError\u001b[0m: name 'df' is not defined"
     ]
    }
   ],
   "source": [
    "# Print header of storey_range\n",
    "df['storey_range'].head()"
   ]
  },
  {
   "cell_type": "code",
   "execution_count": 31,
   "metadata": {
    "colab": {
     "base_uri": "https://localhost:8080/",
     "height": 206
    },
    "id": "_I-LFU0kFBcq",
    "outputId": "a34830cb-1d69-462c-bfde-e5f00e1cf263"
   },
   "outputs": [
    {
     "data": {
      "text/html": [
       "<div>\n",
       "<style scoped>\n",
       "    .dataframe tbody tr th:only-of-type {\n",
       "        vertical-align: middle;\n",
       "    }\n",
       "\n",
       "    .dataframe tbody tr th {\n",
       "        vertical-align: top;\n",
       "    }\n",
       "\n",
       "    .dataframe thead th {\n",
       "        text-align: right;\n",
       "    }\n",
       "</style>\n",
       "<table border=\"1\" class=\"dataframe\">\n",
       "  <thead>\n",
       "    <tr style=\"text-align: right;\">\n",
       "      <th></th>\n",
       "      <th>0</th>\n",
       "      <th>1</th>\n",
       "    </tr>\n",
       "  </thead>\n",
       "  <tbody>\n",
       "    <tr>\n",
       "      <th>0</th>\n",
       "      <td>10</td>\n",
       "      <td>12</td>\n",
       "    </tr>\n",
       "    <tr>\n",
       "      <th>1</th>\n",
       "      <td>04</td>\n",
       "      <td>06</td>\n",
       "    </tr>\n",
       "    <tr>\n",
       "      <th>2</th>\n",
       "      <td>10</td>\n",
       "      <td>12</td>\n",
       "    </tr>\n",
       "    <tr>\n",
       "      <th>3</th>\n",
       "      <td>07</td>\n",
       "      <td>09</td>\n",
       "    </tr>\n",
       "    <tr>\n",
       "      <th>4</th>\n",
       "      <td>04</td>\n",
       "      <td>06</td>\n",
       "    </tr>\n",
       "  </tbody>\n",
       "</table>\n",
       "</div>"
      ],
      "text/plain": [
       "    0   1\n",
       "0  10  12\n",
       "1  04  06\n",
       "2  10  12\n",
       "3  07  09\n",
       "4  04  06"
      ]
     },
     "execution_count": 31,
     "metadata": {},
     "output_type": "execute_result"
    }
   ],
   "source": [
    "# Splitting storey range column\n",
    "storey=df['storey_range'].str.split(' TO ',expand = True)\n",
    "storey.head()"
   ]
  },
  {
   "cell_type": "code",
   "execution_count": 32,
   "metadata": {
    "id": "SKJ6Bk_fFBfh"
   },
   "outputs": [],
   "source": [
    "# Creating the storey minimum values as column\n",
    "df.insert(loc = 6,\n",
    "          column = 'storey_min',\n",
    "          value = storey[0])"
   ]
  },
  {
   "cell_type": "code",
   "execution_count": 33,
   "metadata": {
    "id": "cZ5EuxngFBiN"
   },
   "outputs": [],
   "source": [
    "# Creating the storey maximum values as column\n",
    "df.insert(loc = 7,\n",
    "          column = 'storey_max',\n",
    "          value = storey[1])"
   ]
  },
  {
   "cell_type": "code",
   "execution_count": 34,
   "metadata": {
    "colab": {
     "base_uri": "https://localhost:8080/",
     "height": 206
    },
    "id": "oH8Rh0YPFBlP",
    "outputId": "c861a7ee-5faf-4150-9ad7-952105ed0912"
   },
   "outputs": [
    {
     "data": {
      "text/html": [
       "<div>\n",
       "<style scoped>\n",
       "    .dataframe tbody tr th:only-of-type {\n",
       "        vertical-align: middle;\n",
       "    }\n",
       "\n",
       "    .dataframe tbody tr th {\n",
       "        vertical-align: top;\n",
       "    }\n",
       "\n",
       "    .dataframe thead th {\n",
       "        text-align: right;\n",
       "    }\n",
       "</style>\n",
       "<table border=\"1\" class=\"dataframe\">\n",
       "  <thead>\n",
       "    <tr style=\"text-align: right;\">\n",
       "      <th></th>\n",
       "      <th>0</th>\n",
       "      <th>1</th>\n",
       "    </tr>\n",
       "  </thead>\n",
       "  <tbody>\n",
       "    <tr>\n",
       "      <th>0</th>\n",
       "      <td>1990</td>\n",
       "      <td>01</td>\n",
       "    </tr>\n",
       "    <tr>\n",
       "      <th>1</th>\n",
       "      <td>1990</td>\n",
       "      <td>01</td>\n",
       "    </tr>\n",
       "    <tr>\n",
       "      <th>2</th>\n",
       "      <td>1990</td>\n",
       "      <td>01</td>\n",
       "    </tr>\n",
       "    <tr>\n",
       "      <th>3</th>\n",
       "      <td>1990</td>\n",
       "      <td>01</td>\n",
       "    </tr>\n",
       "    <tr>\n",
       "      <th>4</th>\n",
       "      <td>1990</td>\n",
       "      <td>01</td>\n",
       "    </tr>\n",
       "  </tbody>\n",
       "</table>\n",
       "</div>"
      ],
      "text/plain": [
       "      0   1\n",
       "0  1990  01\n",
       "1  1990  01\n",
       "2  1990  01\n",
       "3  1990  01\n",
       "4  1990  01"
      ]
     },
     "execution_count": 34,
     "metadata": {},
     "output_type": "execute_result"
    }
   ],
   "source": [
    "# Splitting month column\n",
    "month=df['month'].str.split('-',expand = True)\n",
    "month.head()"
   ]
  },
  {
   "cell_type": "code",
   "execution_count": 35,
   "metadata": {
    "id": "aeAPvHuPFBn8"
   },
   "outputs": [],
   "source": [
    "# Creating the year values as column\n",
    "df.insert(loc = 1,\n",
    "          column = 'selling_year',\n",
    "          value = month[0])"
   ]
  },
  {
   "cell_type": "code",
   "execution_count": 36,
   "metadata": {
    "id": "lUlatW_fFBqo"
   },
   "outputs": [],
   "source": [
    "# Creating the month values as column\n",
    "df.insert(loc = 2,\n",
    "          column = 'selling_month',\n",
    "          value = month[1])"
   ]
  },
  {
   "cell_type": "code",
   "execution_count": 37,
   "metadata": {
    "colab": {
     "base_uri": "https://localhost:8080/",
     "height": 617
    },
    "id": "dB0gpHsfFBuI",
    "outputId": "675cf1d1-ad82-42fe-ca61-a6162a4495f3"
   },
   "outputs": [
    {
     "data": {
      "text/html": [
       "<div>\n",
       "<style scoped>\n",
       "    .dataframe tbody tr th:only-of-type {\n",
       "        vertical-align: middle;\n",
       "    }\n",
       "\n",
       "    .dataframe tbody tr th {\n",
       "        vertical-align: top;\n",
       "    }\n",
       "\n",
       "    .dataframe thead th {\n",
       "        text-align: right;\n",
       "    }\n",
       "</style>\n",
       "<table border=\"1\" class=\"dataframe\">\n",
       "  <thead>\n",
       "    <tr style=\"text-align: right;\">\n",
       "      <th></th>\n",
       "      <th>month</th>\n",
       "      <th>selling_year</th>\n",
       "      <th>selling_month</th>\n",
       "      <th>town</th>\n",
       "      <th>town_code</th>\n",
       "      <th>flat_type</th>\n",
       "      <th>block</th>\n",
       "      <th>street_name</th>\n",
       "      <th>storey_min</th>\n",
       "      <th>storey_max</th>\n",
       "      <th>storey_range</th>\n",
       "      <th>floor_area_sqm</th>\n",
       "      <th>flat_model</th>\n",
       "      <th>flat_modelcode</th>\n",
       "      <th>lease_commence_date</th>\n",
       "      <th>resale_price</th>\n",
       "    </tr>\n",
       "  </thead>\n",
       "  <tbody>\n",
       "    <tr>\n",
       "      <th>0</th>\n",
       "      <td>1990-01</td>\n",
       "      <td>1990</td>\n",
       "      <td>01</td>\n",
       "      <td>ANG MO KIO</td>\n",
       "      <td>0</td>\n",
       "      <td>1</td>\n",
       "      <td>309</td>\n",
       "      <td>ANG MO KIO AVE 1</td>\n",
       "      <td>10</td>\n",
       "      <td>12</td>\n",
       "      <td>10 TO 12</td>\n",
       "      <td>31.0</td>\n",
       "      <td>improved</td>\n",
       "      <td>5</td>\n",
       "      <td>1977</td>\n",
       "      <td>9000.0</td>\n",
       "    </tr>\n",
       "    <tr>\n",
       "      <th>1</th>\n",
       "      <td>1990-01</td>\n",
       "      <td>1990</td>\n",
       "      <td>01</td>\n",
       "      <td>ANG MO KIO</td>\n",
       "      <td>0</td>\n",
       "      <td>1</td>\n",
       "      <td>309</td>\n",
       "      <td>ANG MO KIO AVE 1</td>\n",
       "      <td>04</td>\n",
       "      <td>06</td>\n",
       "      <td>04 TO 06</td>\n",
       "      <td>31.0</td>\n",
       "      <td>improved</td>\n",
       "      <td>5</td>\n",
       "      <td>1977</td>\n",
       "      <td>6000.0</td>\n",
       "    </tr>\n",
       "    <tr>\n",
       "      <th>2</th>\n",
       "      <td>1990-01</td>\n",
       "      <td>1990</td>\n",
       "      <td>01</td>\n",
       "      <td>ANG MO KIO</td>\n",
       "      <td>0</td>\n",
       "      <td>1</td>\n",
       "      <td>309</td>\n",
       "      <td>ANG MO KIO AVE 1</td>\n",
       "      <td>10</td>\n",
       "      <td>12</td>\n",
       "      <td>10 TO 12</td>\n",
       "      <td>31.0</td>\n",
       "      <td>improved</td>\n",
       "      <td>5</td>\n",
       "      <td>1977</td>\n",
       "      <td>8000.0</td>\n",
       "    </tr>\n",
       "    <tr>\n",
       "      <th>3</th>\n",
       "      <td>1990-01</td>\n",
       "      <td>1990</td>\n",
       "      <td>01</td>\n",
       "      <td>ANG MO KIO</td>\n",
       "      <td>0</td>\n",
       "      <td>1</td>\n",
       "      <td>309</td>\n",
       "      <td>ANG MO KIO AVE 1</td>\n",
       "      <td>07</td>\n",
       "      <td>09</td>\n",
       "      <td>07 TO 09</td>\n",
       "      <td>31.0</td>\n",
       "      <td>improved</td>\n",
       "      <td>5</td>\n",
       "      <td>1977</td>\n",
       "      <td>6000.0</td>\n",
       "    </tr>\n",
       "    <tr>\n",
       "      <th>4</th>\n",
       "      <td>1990-01</td>\n",
       "      <td>1990</td>\n",
       "      <td>01</td>\n",
       "      <td>ANG MO KIO</td>\n",
       "      <td>0</td>\n",
       "      <td>3</td>\n",
       "      <td>216</td>\n",
       "      <td>ANG MO KIO AVE 1</td>\n",
       "      <td>04</td>\n",
       "      <td>06</td>\n",
       "      <td>04 TO 06</td>\n",
       "      <td>73.0</td>\n",
       "      <td>new generation</td>\n",
       "      <td>12</td>\n",
       "      <td>1976</td>\n",
       "      <td>47200.0</td>\n",
       "    </tr>\n",
       "    <tr>\n",
       "      <th>...</th>\n",
       "      <td>...</td>\n",
       "      <td>...</td>\n",
       "      <td>...</td>\n",
       "      <td>...</td>\n",
       "      <td>...</td>\n",
       "      <td>...</td>\n",
       "      <td>...</td>\n",
       "      <td>...</td>\n",
       "      <td>...</td>\n",
       "      <td>...</td>\n",
       "      <td>...</td>\n",
       "      <td>...</td>\n",
       "      <td>...</td>\n",
       "      <td>...</td>\n",
       "      <td>...</td>\n",
       "      <td>...</td>\n",
       "    </tr>\n",
       "    <tr>\n",
       "      <th>912886</th>\n",
       "      <td>2023-05</td>\n",
       "      <td>2023</td>\n",
       "      <td>05</td>\n",
       "      <td>YISHUN</td>\n",
       "      <td>26</td>\n",
       "      <td>6</td>\n",
       "      <td>827</td>\n",
       "      <td>YISHUN ST 81</td>\n",
       "      <td>01</td>\n",
       "      <td>03</td>\n",
       "      <td>01 TO 03</td>\n",
       "      <td>154.0</td>\n",
       "      <td>maisonette</td>\n",
       "      <td>7</td>\n",
       "      <td>1987</td>\n",
       "      <td>829000.0</td>\n",
       "    </tr>\n",
       "    <tr>\n",
       "      <th>912887</th>\n",
       "      <td>2023-05</td>\n",
       "      <td>2023</td>\n",
       "      <td>05</td>\n",
       "      <td>YISHUN</td>\n",
       "      <td>26</td>\n",
       "      <td>6</td>\n",
       "      <td>824</td>\n",
       "      <td>YISHUN ST 81</td>\n",
       "      <td>07</td>\n",
       "      <td>09</td>\n",
       "      <td>07 TO 09</td>\n",
       "      <td>146.0</td>\n",
       "      <td>maisonette</td>\n",
       "      <td>7</td>\n",
       "      <td>1987</td>\n",
       "      <td>855000.0</td>\n",
       "    </tr>\n",
       "    <tr>\n",
       "      <th>912888</th>\n",
       "      <td>2023-07</td>\n",
       "      <td>2023</td>\n",
       "      <td>07</td>\n",
       "      <td>YISHUN</td>\n",
       "      <td>26</td>\n",
       "      <td>6</td>\n",
       "      <td>837</td>\n",
       "      <td>YISHUN ST 81</td>\n",
       "      <td>01</td>\n",
       "      <td>03</td>\n",
       "      <td>01 TO 03</td>\n",
       "      <td>146.0</td>\n",
       "      <td>maisonette</td>\n",
       "      <td>7</td>\n",
       "      <td>1988</td>\n",
       "      <td>860000.0</td>\n",
       "    </tr>\n",
       "    <tr>\n",
       "      <th>912889</th>\n",
       "      <td>2023-01</td>\n",
       "      <td>2023</td>\n",
       "      <td>01</td>\n",
       "      <td>YISHUN</td>\n",
       "      <td>26</td>\n",
       "      <td>7</td>\n",
       "      <td>666</td>\n",
       "      <td>YISHUN AVE 4</td>\n",
       "      <td>07</td>\n",
       "      <td>09</td>\n",
       "      <td>07 TO 09</td>\n",
       "      <td>179.0</td>\n",
       "      <td>multi generation</td>\n",
       "      <td>11</td>\n",
       "      <td>1987</td>\n",
       "      <td>1080000.0</td>\n",
       "    </tr>\n",
       "    <tr>\n",
       "      <th>912890</th>\n",
       "      <td>2023-06</td>\n",
       "      <td>2023</td>\n",
       "      <td>06</td>\n",
       "      <td>YISHUN</td>\n",
       "      <td>26</td>\n",
       "      <td>7</td>\n",
       "      <td>633</td>\n",
       "      <td>YISHUN ST 61</td>\n",
       "      <td>04</td>\n",
       "      <td>06</td>\n",
       "      <td>04 TO 06</td>\n",
       "      <td>159.0</td>\n",
       "      <td>multi generation</td>\n",
       "      <td>11</td>\n",
       "      <td>1987</td>\n",
       "      <td>935000.0</td>\n",
       "    </tr>\n",
       "  </tbody>\n",
       "</table>\n",
       "<p>912891 rows × 16 columns</p>\n",
       "</div>"
      ],
      "text/plain": [
       "          month selling_year selling_month        town  town_code  flat_type  \\\n",
       "0       1990-01         1990            01  ANG MO KIO          0          1   \n",
       "1       1990-01         1990            01  ANG MO KIO          0          1   \n",
       "2       1990-01         1990            01  ANG MO KIO          0          1   \n",
       "3       1990-01         1990            01  ANG MO KIO          0          1   \n",
       "4       1990-01         1990            01  ANG MO KIO          0          3   \n",
       "...         ...          ...           ...         ...        ...        ...   \n",
       "912886  2023-05         2023            05      YISHUN         26          6   \n",
       "912887  2023-05         2023            05      YISHUN         26          6   \n",
       "912888  2023-07         2023            07      YISHUN         26          6   \n",
       "912889  2023-01         2023            01      YISHUN         26          7   \n",
       "912890  2023-06         2023            06      YISHUN         26          7   \n",
       "\n",
       "       block       street_name storey_min storey_max storey_range  \\\n",
       "0        309  ANG MO KIO AVE 1         10         12     10 TO 12   \n",
       "1        309  ANG MO KIO AVE 1         04         06     04 TO 06   \n",
       "2        309  ANG MO KIO AVE 1         10         12     10 TO 12   \n",
       "3        309  ANG MO KIO AVE 1         07         09     07 TO 09   \n",
       "4        216  ANG MO KIO AVE 1         04         06     04 TO 06   \n",
       "...      ...               ...        ...        ...          ...   \n",
       "912886   827      YISHUN ST 81         01         03     01 TO 03   \n",
       "912887   824      YISHUN ST 81         07         09     07 TO 09   \n",
       "912888   837      YISHUN ST 81         01         03     01 TO 03   \n",
       "912889   666      YISHUN AVE 4         07         09     07 TO 09   \n",
       "912890   633      YISHUN ST 61         04         06     04 TO 06   \n",
       "\n",
       "        floor_area_sqm        flat_model  flat_modelcode  lease_commence_date  \\\n",
       "0                 31.0          improved               5                 1977   \n",
       "1                 31.0          improved               5                 1977   \n",
       "2                 31.0          improved               5                 1977   \n",
       "3                 31.0          improved               5                 1977   \n",
       "4                 73.0    new generation              12                 1976   \n",
       "...                ...               ...             ...                  ...   \n",
       "912886           154.0        maisonette               7                 1987   \n",
       "912887           146.0        maisonette               7                 1987   \n",
       "912888           146.0        maisonette               7                 1988   \n",
       "912889           179.0  multi generation              11                 1987   \n",
       "912890           159.0  multi generation              11                 1987   \n",
       "\n",
       "        resale_price  \n",
       "0             9000.0  \n",
       "1             6000.0  \n",
       "2             8000.0  \n",
       "3             6000.0  \n",
       "4            47200.0  \n",
       "...              ...  \n",
       "912886      829000.0  \n",
       "912887      855000.0  \n",
       "912888      860000.0  \n",
       "912889     1080000.0  \n",
       "912890      935000.0  \n",
       "\n",
       "[912891 rows x 16 columns]"
      ]
     },
     "execution_count": 37,
     "metadata": {},
     "output_type": "execute_result"
    }
   ],
   "source": [
    "df"
   ]
  },
  {
   "cell_type": "code",
   "execution_count": 38,
   "metadata": {
    "id": "OKg_f_vsFBxR"
   },
   "outputs": [],
   "source": [
    "df.to_csv(r'E:\\GitHub\\Singapore_Resale\\Data\\Singapore_Resale_Flat_Prices_Predicting.csv')"
   ]
  },
  {
   "cell_type": "code",
   "execution_count": 39,
   "metadata": {
    "colab": {
     "base_uri": "https://localhost:8080/"
    },
    "id": "VhHC7nNVEzXz",
    "outputId": "a0089170-c9ff-48f1-d96e-137db18278e6"
   },
   "outputs": [
    {
     "data": {
      "text/plain": [
       "(912891, 16)"
      ]
     },
     "execution_count": 39,
     "metadata": {},
     "output_type": "execute_result"
    }
   ],
   "source": [
    "df.shape"
   ]
  },
  {
   "cell_type": "code",
   "execution_count": 40,
   "metadata": {
    "colab": {
     "base_uri": "https://localhost:8080/"
    },
    "id": "5URvPIBxJsqw",
    "outputId": "3008bc18-c8e1-4bfe-84f9-a1afbc60406f"
   },
   "outputs": [
    {
     "data": {
      "text/plain": [
       "month                   object\n",
       "selling_year            object\n",
       "selling_month           object\n",
       "town                    object\n",
       "town_code                int32\n",
       "flat_type                int64\n",
       "block                   object\n",
       "street_name             object\n",
       "storey_min              object\n",
       "storey_max              object\n",
       "storey_range            object\n",
       "floor_area_sqm         float64\n",
       "flat_model              object\n",
       "flat_modelcode           int32\n",
       "lease_commence_date      int64\n",
       "resale_price           float64\n",
       "dtype: object"
      ]
     },
     "execution_count": 40,
     "metadata": {},
     "output_type": "execute_result"
    }
   ],
   "source": [
    "# Dealing with datatypes\n",
    "# Datatyppe of the columns\n",
    "df.dtypes"
   ]
  },
  {
   "cell_type": "code",
   "execution_count": 41,
   "metadata": {
    "colab": {
     "base_uri": "https://localhost:8080/"
    },
    "id": "qBVExRp0KBG8",
    "outputId": "71c166fa-d3e9-45fb-edca-723914396324"
   },
   "outputs": [
    {
     "data": {
      "text/plain": [
       "month                   object\n",
       "selling_year             int64\n",
       "selling_month            int64\n",
       "town                    object\n",
       "town_code                int32\n",
       "flat_type                int64\n",
       "block                   object\n",
       "street_name             object\n",
       "storey_min               int64\n",
       "storey_max               int64\n",
       "storey_range            object\n",
       "floor_area_sqm         float64\n",
       "flat_model              object\n",
       "flat_modelcode           int32\n",
       "lease_commence_date      int64\n",
       "resale_price           float64\n",
       "dtype: object"
      ]
     },
     "execution_count": 41,
     "metadata": {},
     "output_type": "execute_result"
    }
   ],
   "source": [
    "# Changing the datatype of numeric columns\n",
    "df[['selling_year', 'selling_month', 'storey_min', 'storey_max']] = df[['selling_year', 'selling_month', 'storey_min', 'storey_max']].apply(pd.to_numeric, errors='coerce')\n",
    "df.dtypes"
   ]
  },
  {
   "cell_type": "code",
   "execution_count": 42,
   "metadata": {
    "colab": {
     "base_uri": "https://localhost:8080/",
     "height": 843
    },
    "id": "Eb4nWQIEKBJ3",
    "outputId": "6a3c9988-ab41-49aa-8491-dcdf75314689"
   },
   "outputs": [
    {
     "data": {
      "image/png": "[encoded data removed]",
      "text/plain": [
       "<Figure size 1000x800 with 2 Axes>"
      ]
     },
     "metadata": {},
     "output_type": "display_data"
    }
   ],
   "source": [
    "# Correlation matrix\n",
    "corr_df = df[['selling_year', 'selling_month', 'town_code', 'storey_min', 'storey_max', 'floor_area_sqm', 'flat_modelcode', 'lease_commence_date', 'resale_price']].dropna().corr()\n",
    "\n",
    "# Create a heatmap\n",
    "plt.figure(figsize=(10, 8))\n",
    "sns.heatmap(corr_df, cmap=\"Reds\", annot=True, fmt=\".2f\", linewidths=.5)\n",
    "plt.title(\"Correlation Matrix\")\n",
    "plt.show()\n"
   ]
  },
  {
   "cell_type": "markdown",
   "metadata": {
    "id": "CLdTlzEoOXu4"
   },
   "source": [
    "## **Model Building**"
   ]
  },
  {
   "cell_type": "code",
   "execution_count": 43,
   "metadata": {
    "id": "iQFJUcArKBM3"
   },
   "outputs": [],
   "source": [
    "# create x and y variables\n",
    "X = df[['selling_year','selling_month','town_code','storey_min','storey_max','floor_area_sqm','flat_modelcode','lease_commence_date']]\n",
    "y = df['resale_price']"
   ]
  },
  {
   "cell_type": "code",
   "execution_count": 44,
   "metadata": {
    "id": "7GIp2YEdKBQS"
   },
   "outputs": [],
   "source": [
    "# Splitting the data\n",
    "\n",
    "from sklearn.model_selection import train_test_split"
   ]
  },
  {
   "cell_type": "code",
   "execution_count": 45,
   "metadata": {
    "id": "lSVgod5oKBTR"
   },
   "outputs": [],
   "source": [
    "X_train, X_test, y_train, y_test = train_test_split(X, y , train_size= 0.8, random_state= 1)"
   ]
  },
  {
   "cell_type": "markdown",
   "metadata": {
    "id": "6lhupGvSQku-"
   },
   "source": [
    "### **According to the results from PyCaret, it is indicated that the \"Linear Regression model\" performs well.**\n",
    "PyCaret result = https://colab.research.google.com/drive/1-QkPHQrAdlmjCrk5P-WaY4X0iQDa6PJh?usp=sharing"
   ]
  },
  {
   "cell_type": "code",
   "execution_count": 55,
   "metadata": {
    "id": "5kpdYyCPKBWL"
   },
   "outputs": [
    {
     "data": {
      "text/html": [
       "<style>#sk-container-id-2 {color: black;background-color: white;}#sk-container-id-2 pre{padding: 0;}#sk-container-id-2 div.sk-toggleable {background-color: white;}#sk-container-id-2 label.sk-toggleable__label {cursor: pointer;display: block;width: 100%;margin-bottom: 0;padding: 0.3em;box-sizing: border-box;text-align: center;}#sk-container-id-2 label.sk-toggleable__label-arrow:before {content: \"▸\";float: left;margin-right: 0.25em;color: #696969;}#sk-container-id-2 label.sk-toggleable__label-arrow:hover:before {color: black;}#sk-container-id-2 div.sk-estimator:hover label.sk-toggleable__label-arrow:before {color: black;}#sk-container-id-2 div.sk-toggleable__content {max-height: 0;max-width: 0;overflow: hidden;text-align: left;background-color: #f0f8ff;}#sk-container-id-2 div.sk-toggleable__content pre {margin: 0.2em;color: black;border-radius: 0.25em;background-color: #f0f8ff;}#sk-container-id-2 input.sk-toggleable__control:checked~div.sk-toggleable__content {max-height: 200px;max-width: 100%;overflow: auto;}#sk-container-id-2 input.sk-toggleable__control:checked~label.sk-toggleable__label-arrow:before {content: \"▾\";}#sk-container-id-2 div.sk-estimator input.sk-toggleable__control:checked~label.sk-toggleable__label {background-color: #d4ebff;}#sk-container-id-2 div.sk-label input.sk-toggleable__control:checked~label.sk-toggleable__label {background-color: #d4ebff;}#sk-container-id-2 input.sk-hidden--visually {border: 0;clip: rect(1px 1px 1px 1px);clip: rect(1px, 1px, 1px, 1px);height: 1px;margin: -1px;overflow: hidden;padding: 0;position: absolute;width: 1px;}#sk-container-id-2 div.sk-estimator {font-family: monospace;background-color: #f0f8ff;border: 1px dotted black;border-radius: 0.25em;box-sizing: border-box;margin-bottom: 0.5em;}#sk-container-id-2 div.sk-estimator:hover {background-color: #d4ebff;}#sk-container-id-2 div.sk-parallel-item::after {content: \"\";width: 100%;border-bottom: 1px solid gray;flex-grow: 1;}#sk-container-id-2 div.sk-label:hover label.sk-toggleable__label {background-color: #d4ebff;}#sk-container-id-2 div.sk-serial::before {content: \"\";position: absolute;border-left: 1px solid gray;box-sizing: border-box;top: 0;bottom: 0;left: 50%;z-index: 0;}#sk-container-id-2 div.sk-serial {display: flex;flex-direction: column;align-items: center;background-color: white;padding-right: 0.2em;padding-left: 0.2em;position: relative;}#sk-container-id-2 div.sk-item {position: relative;z-index: 1;}#sk-container-id-2 div.sk-parallel {display: flex;align-items: stretch;justify-content: center;background-color: white;position: relative;}#sk-container-id-2 div.sk-item::before, #sk-container-id-2 div.sk-parallel-item::before {content: \"\";position: absolute;border-left: 1px solid gray;box-sizing: border-box;top: 0;bottom: 0;left: 50%;z-index: -1;}#sk-container-id-2 div.sk-parallel-item {display: flex;flex-direction: column;z-index: 1;position: relative;background-color: white;}#sk-container-id-2 div.sk-parallel-item:first-child::after {align-self: flex-end;width: 50%;}#sk-container-id-2 div.sk-parallel-item:last-child::after {align-self: flex-start;width: 50%;}#sk-container-id-2 div.sk-parallel-item:only-child::after {width: 0;}#sk-container-id-2 div.sk-dashed-wrapped {border: 1px dashed gray;margin: 0 0.4em 0.5em 0.4em;box-sizing: border-box;padding-bottom: 0.4em;background-color: white;}#sk-container-id-2 div.sk-label label {font-family: monospace;font-weight: bold;display: inline-block;line-height: 1.2em;}#sk-container-id-2 div.sk-label-container {text-align: center;}#sk-container-id-2 div.sk-container {/* jupyter's `normalize.less` sets `[hidden] { display: none; }` but bootstrap.min.css set `[hidden] { display: none !important; }` so we also need the `!important` here to be able to override the default hidden behavior on the sphinx rendered scikit-learn.org. See: https://github.com/scikit-learn/scikit-learn/issues/21755 */display: inline-block !important;position: relative;}#sk-container-id-2 div.sk-text-repr-fallback {display: none;}</style><div id=\"sk-container-id-2\" class=\"sk-top-container\"><div class=\"sk-text-repr-fallback\"><pre>LinearRegression()</pre><b>In a Jupyter environment, please rerun this cell to show the HTML representation or trust the notebook. <br />On GitHub, the HTML representation is unable to render, please try loading this page with nbviewer.org.</b></div><div class=\"sk-container\" hidden><div class=\"sk-item\"><div class=\"sk-estimator sk-toggleable\"><input class=\"sk-toggleable__control sk-hidden--visually\" id=\"sk-estimator-id-2\" type=\"checkbox\" checked><label for=\"sk-estimator-id-2\" class=\"sk-toggleable__label sk-toggleable__label-arrow\">LinearRegression</label><div class=\"sk-toggleable__content\"><pre>LinearRegression()</pre></div></div></div></div></div>"
      ],
      "text/plain": [
       "LinearRegression()"
      ]
     },
     "execution_count": 55,
     "metadata": {},
     "output_type": "execute_result"
    }
   ],
   "source": [
    "from sklearn.linear_model import LinearRegression\n",
    "from sklearn.model_selection import KFold, cross_val_score\n",
    "lr = LinearRegression()\n",
    "kf = KFold(n_splits=10, shuffle=True, random_state=1)\n",
    "k_fold_scores = cross_val_score(lr, X_train, y_train, cv=kf, scoring='neg_mean_absolute_error')\n",
    "\n",
    "lr.fit(X_train,y_train)"
   ]
  },
  {
   "cell_type": "code",
   "execution_count": 56,
   "metadata": {
    "id": "xzXEAwpZlwEp"
   },
   "outputs": [
    {
     "data": {
      "text/plain": [
       "array([ 10776.14629744,   1225.35145068,  -1155.38436398, -32529.62759388,\n",
       "        37620.17300407,   3278.28840774,     87.27549405,   1110.39079773])"
      ]
     },
     "execution_count": 56,
     "metadata": {},
     "output_type": "execute_result"
    }
   ],
   "source": [
    "coefficients = lr.coef_\n",
    "coefficients\n"
   ]
  },
  {
   "cell_type": "code",
   "execution_count": 57,
   "metadata": {
    "id": "Cwyfy55qlwHc"
   },
   "outputs": [
    {
     "data": {
      "text/plain": [
       "-23923425.287639312"
      ]
     },
     "execution_count": 57,
     "metadata": {},
     "output_type": "execute_result"
    }
   ],
   "source": [
    "intercept = lr.intercept_\n",
    "intercept"
   ]
  },
  {
   "cell_type": "code",
   "execution_count": 58,
   "metadata": {
    "id": "7sNlKgXMKBgO"
   },
   "outputs": [],
   "source": [
    "y_pred = lr.predict(X_test)"
   ]
  },
  {
   "cell_type": "code",
   "execution_count": 59,
   "metadata": {
    "id": "EGhpOCOWtXvj"
   },
   "outputs": [
    {
     "name": "stdout",
     "output_type": "stream",
     "text": [
      "Mean Absolute Error (MAE): 60965.62491431446\n",
      "Mean Squared Error (MSE): 6745475790.498295\n",
      "Root Mean Squared Error (RMSE): 82130.84554841922\n",
      "R-squared (R2): 0.7559519263366015\n",
      "Mean Absolute Percentage Error (MAPE): 0.23315595160776573\n",
      "Explained Variance Score: 0.7559519805944237\n"
     ]
    }
   ],
   "source": [
    "from sklearn.metrics import mean_absolute_error, mean_squared_error, r2_score, mean_squared_log_error, mean_absolute_percentage_error, explained_variance_score\n",
    "# Calculate metrics\n",
    "mae = mean_absolute_error(y_test, y_pred)\n",
    "mse = mean_squared_error(y_test, y_pred)\n",
    "rmse = np.sqrt(mse)\n",
    "r2 = r2_score(y_test, y_pred)\n",
    "mape = mean_absolute_percentage_error(y_test, y_pred)\n",
    "explained_var = explained_variance_score(y_test, y_pred)\n",
    "\n",
    "# Display results\n",
    "print(\"Mean Absolute Error (MAE):\", mae)\n",
    "print(\"Mean Squared Error (MSE):\", mse)\n",
    "print(\"Root Mean Squared Error (RMSE):\", rmse)\n",
    "print(\"R-squared (R2):\", r2)\n",
    "print(\"Mean Absolute Percentage Error (MAPE):\", mape)\n",
    "print(\"Explained Variance Score:\", explained_var)\n",
    "\n"
   ]
  },
  {
   "cell_type": "markdown",
   "metadata": {
    "id": "9YlA24SzvnaH"
   },
   "source": [
    "**Pickling the knowledge of the trained RandomForest Regression model to develop a Streamlit web page for machine learning model presentation.**"
   ]
  },
  {
   "cell_type": "code",
   "execution_count": 51,
   "metadata": {
    "id": "U_dl6CZutX0o"
   },
   "outputs": [],
   "source": [
    "# Importing the pickle package\n",
    "import pickle\n",
    "\n",
    "# Save the Linear Regression model to a file\n",
    "with open('linear_regression_model.pkl', 'wb') as model_file:\n",
    "    pickle.dump(lr, model_file)"
   ]
  },
  {
   "cell_type": "code",
   "execution_count": 60,
   "metadata": {},
   "outputs": [
    {
     "name": "stdout",
     "output_type": "stream",
     "text": [
      "75.59519263366015 %\n"
     ]
    }
   ],
   "source": [
    "# Accuracy score of the model\n",
    "score = lr.score(X_test,y_test)\n",
    "print(score * 100,\"%\")"
   ]
  },
  {
   "cell_type": "code",
   "execution_count": null,
   "metadata": {},
   "outputs": [],
   "source": []
  },
  {
   "cell_type": "code",
   "execution_count": null,
   "metadata": {},
   "outputs": [],
   "source": []
  },
  {
   "cell_type": "code",
   "execution_count": null,
   "metadata": {},
   "outputs": [],
   "source": []
  },
  {
   "cell_type": "code",
   "execution_count": null,
   "metadata": {},
   "outputs": [],
   "source": []
  },
  {
   "cell_type": "code",
   "execution_count": null,
   "metadata": {},
   "outputs": [],
   "source": []
  }
 ],
 "metadata": {
  "colab": {
   "provenance": []
  },
  "kernelspec": {
   "display_name": "Python 3 (ipykernel)",
   "language": "python",
   "name": "python3"
  },
  "language_info": {
   "codemirror_mode": {
    "name": "ipython",
    "version": 3
   },
   "file_extension": ".py",
   "mimetype": "text/x-python",
   "name": "python",
   "nbconvert_exporter": "python",
   "pygments_lexer": "ipython3",
   "version": "3.11.4"
  }
 },
 "nbformat": 4,
 "nbformat_minor": 1
}
